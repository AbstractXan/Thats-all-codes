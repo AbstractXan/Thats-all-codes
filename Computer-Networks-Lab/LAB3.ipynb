{
 "cells": [
  {
   "cell_type": "markdown",
   "metadata": {},
   "source": [
    "# PRIYANSH SANGULE\n",
    "# CS16B021"
   ]
  },
  {
   "cell_type": "code",
   "execution_count": 2,
   "metadata": {},
   "outputs": [
    {
     "name": "stdout",
     "output_type": "stream",
     "text": [
      "Key  1001\n",
      "Message sent:  1000100110\n",
      "EDF:  011\n",
      "Final message sent:  1000100110011\n",
      "-=-==-=-=-=-=--=-=-\n",
      "Recieved flipped message:  1100100100011\n",
      "Error\n",
      "-=-==-=-=-=-=--=-=-\n"
     ]
    }
   ],
   "source": [
    "from random import *\n",
    "#XOR function\n",
    "#converting and b to base 2 integer and performing a xor.\n",
    "#Again converting that base 2 integer to binary string \n",
    "# [2:] for trimming intial '0b' at the beginning of obtained string\n",
    "def xor(a,b):\n",
    "    return bin(int(a,2)^int(b,2))[2:] \n",
    "\n",
    "#a (divisor) divides b (dividend)\n",
    "# CRC based XOR modulo division of a given two numbers, returns the reminder\n",
    "def div(a,b):\n",
    "    an = len(a) #divisor\n",
    "    bn = len(b) #dividend\n",
    "    tmp = b[:an] #take first an bits\n",
    "    i = an #pointer to the anth bit\n",
    "    \n",
    "    while i<bn:\n",
    "        if(len(a)==len(tmp)): #if same length -> xor\n",
    "            tmp = xor(tmp,a).lstrip('0')\n",
    "        else: #else keep appending to tmp\n",
    "            tmp += b[i]\n",
    "            i+=1\n",
    "    #when done - check for same length again\n",
    "    if(len(a)==len(tmp)):\n",
    "        tmp = xor(tmp,a).lstrip('0')\n",
    "    while len(tmp)<len(a)-1 :\n",
    "        tmp = '0'+tmp\n",
    "    #Get first bn\n",
    "    return tmp\n",
    "\n",
    "#Flipping function that flips two bits of the input string\n",
    "def flip(a):\n",
    "    #Getting random positions\n",
    "    pos1 = randint(0,len(a))\n",
    "    pos2 = randint(0,len(a))\n",
    "    while(pos1==pos2):\n",
    "        pos2 = randint(0,len(a))\n",
    "    \n",
    "    #Flipping first bit\n",
    "    a1 = a[:pos1]\n",
    "    a1 += xor(a[pos1],'1')\n",
    "    a = a1 + a[pos1+1:]\n",
    "    \n",
    "    #Flipping second bit\n",
    "    a1 = a[:pos2]\n",
    "    a1 += xor(a[pos2],'1')\n",
    "    a = a1 + a[pos2+1:]\n",
    "    return a\n",
    "\n",
    "#Sender sends randomly generated message\n",
    "def sender(length=10,key='1001'):\n",
    "    #Generating random array\n",
    "    bits = [randint(0,1) for i in range(length)]\n",
    "    bitSequence = ''.join(list(map(str,bits)))\n",
    "    print( \"Message sent: \",bitSequence)\n",
    "    rem = div(key,bitSequence)\n",
    "    print( \"EDF: \",rem)\n",
    "    bitSequence += rem\n",
    "    print( \"Final message sent: \",bitSequence)\n",
    "    print( \"-=-==-=-=-=-=--=-=-\")\n",
    "    return bitSequence\n",
    "\n",
    "#Reciever\n",
    "#gets the string returned by the sender, \n",
    "# and flips two random bits, and computes to verify if the received word is erroneous or not\n",
    "def reciever(input,key='1001'):\n",
    "    input = flip(input)\n",
    "    print(\"Recieved flipped message: \",input)\n",
    "    if(div(input,key)==0):\n",
    "        print(\"Correct\")\n",
    "    else:\n",
    "        print(\"Error\")\n",
    "    print( \"-=-==-=-=-=-=--=-=-\")\n",
    "    \n",
    "K = '1001'\n",
    "print(\"Key \", K)\n",
    "message = sender(key=K)\n",
    "reciever(message,key=K)\n"
   ]
  }
 ],
 "metadata": {
  "kernelspec": {
   "display_name": "Python 3",
   "language": "python",
   "name": "python3"
  },
  "language_info": {
   "codemirror_mode": {
    "name": "ipython",
    "version": 3
   },
   "file_extension": ".py",
   "mimetype": "text/x-python",
   "name": "python",
   "nbconvert_exporter": "python",
   "pygments_lexer": "ipython3",
   "version": "3.6.7"
  }
 },
 "nbformat": 4,
 "nbformat_minor": 2
}
