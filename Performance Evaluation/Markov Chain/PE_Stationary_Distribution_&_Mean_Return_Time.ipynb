{
 "cells": [
  {
   "cell_type": "markdown",
   "metadata": {
    "colab_type": "text",
    "id": "NAOequdhg48C"
   },
   "source": [
    "# PRIYANSH SANGULE CS16B021"
   ]
  },
  {
   "cell_type": "markdown",
   "metadata": {
    "colab_type": "text",
    "id": "Lb2ymWDV9eS1"
   },
   "source": [
    "# Verifying stationary distribution of Markov chain states as the function of mean return time"
   ]
  },
  {
   "cell_type": "code",
   "execution_count": 12,
   "metadata": {
    "colab": {
     "base_uri": "https://localhost:8080/",
     "height": 34
    },
    "colab_type": "code",
    "id": "_q9c5aAJ9txI",
    "outputId": "b534fe38-986c-44c5-aece-6f794f865d99"
   },
   "outputs": [
    {
     "name": "stdout",
     "output_type": "stream",
     "text": [
      "Mean Return Time : [1.4880952380952381, 7.383458646616542, 11.418604651162791, 19.73469387755102, 28.484848484848484, 42.0]\n"
     ]
    }
   ],
   "source": [
    "####### QUESTION #######\n",
    "#           Working Broken1 Broken2 Broken3 Broken4  Broken5\\\n",
    "# Working  [ 0.8      0.2     0       0      0        0     ]\n",
    "# Broken1  [ 0.4       0     0.6      0      0        0     ]\n",
    "# Broken2  [ 0.4       0      0      0.6     0        0     ]\n",
    "# Broken3  [ 0.4       0      0       0     0.6       0     ]\n",
    "# Broken4  [ 0.4       0      0       0      0       0.6    ]\n",
    "# Broken5  [  1        0      0       0      0        0     ]\n",
    "# \n",
    "#\n",
    "########################\n",
    "\n",
    "import random \n",
    "iterations = 1000\n",
    "\n",
    "working = 0\n",
    "broken1 = 1\n",
    "broken2 = 2\n",
    "broken3 = 3\n",
    "broken4 = 4\n",
    "broken5 = 5\n",
    "\n",
    "#set all steps to return to same state\n",
    "last_iterated=[0,0,0,0,0,0] #last iteration the state occured\n",
    "loop_steps = [[],[],[],[],[],[]]\n",
    "\n",
    "#returns a probability between 0 and 1\n",
    "def p():\n",
    "  prob = random.uniform(0, 1)\n",
    "  return prob\n",
    "\n",
    "#updates loop_steps and last_iterated times\n",
    "def update(state,iteration):\n",
    "  if(last_iterated[state]==0 and state!=working): #if first time entering the state, initialize last iterated\n",
    "    last_iterated[state]=iteration\n",
    "    return\n",
    "  loop_steps[state].append(iteration-last_iterated[state]) #calculate time elased\n",
    "  last_iterated[state] = iteration #update last iterated for state\n",
    "\n",
    "# returns a state such that:\n",
    "# if p() < prob return next_state1 else return next_state2\n",
    "# also, updates loop_steps and last_iterated for the current iteration\n",
    "def step(state,prob,next_state1,next_state2):\n",
    "  if p()<=prob:\n",
    "    state = next_state1\n",
    "  else:\n",
    "    state = next_state2\n",
    "  update(state,iteration)\n",
    "  return state\n",
    "  \n",
    "#Simulation\n",
    "state = working\n",
    "for iteration in range(1,iterations+1):\n",
    "  \n",
    "  if state==working:\n",
    "    state = step(state,0.2,state+1,working)\n",
    "    continue\n",
    "      \n",
    "  if state>=broken1 and state<broken5:\n",
    "    state=step(state,0.4,working,state+1)\n",
    "    continue\n",
    "  \n",
    "  if state==broken5:\n",
    "    state=step(state,1,working,working)\n",
    "  \n",
    "  \n",
    "  #uncomment to see states \n",
    "  #print(state, end=\" \")\n",
    "\n",
    "# Check loop_steps and last_iterated at the end\n",
    "# print(loop_steps)\n",
    "# print(last_iterated)\n",
    "\n",
    "# average of a list\n",
    "def avg(l):\n",
    "  if len(l)==0 :\n",
    "    return 0;\n",
    "  return sum(l) / float(len(l))\n",
    "\n",
    "expected_steps = [avg(loop_steps[state]) for state in range(0,6)]\n",
    "print(\"Mean Return Time : \",end=\"\")\n",
    "print(expected_steps)\n",
    "\n"
   ]
  },
  {
   "cell_type": "markdown",
   "metadata": {
    "colab_type": "text",
    "id": "hVa5hvvbMNaN"
   },
   "source": [
    "# Finding stationary distribution and comparing"
   ]
  },
  {
   "cell_type": "code",
   "execution_count": 13,
   "metadata": {
    "colab": {
     "base_uri": "https://localhost:8080/",
     "height": 88
    },
    "colab_type": "code",
    "id": "h49ZzvD7MOZD",
    "outputId": "614f1726-fcf7-4a17-e159-803644a27fc1"
   },
   "outputs": [
    {
     "name": "stdout",
     "output_type": "stream",
     "text": [
      "Inverse Mean Return Times : [0.6719999999999999, 0.13543788187372707, 0.0875763747454175, 0.050672182006204755, 0.035106382978723406, 0.023809523809523808]\n",
      "Stationary Distribution : [0.68440648 0.1368813  0.08212878 0.04927727 0.02956636 0.01773982]\n",
      "Thus we notice that the inverse of Mean Return Times is approximately equal to the Stationary Distribution.\n"
     ]
    }
   ],
   "source": [
    "import numpy as np\n",
    "import math\n",
    "from discreteMarkovChain import markovChain\n",
    "p = np.array([\n",
    "              [0.8,0.2,0,0,0,0],\n",
    "              [0.4,0,0.6,0,0,0],\n",
    "              [0.4,0,0,0.6,0,0],\n",
    "              [0.4,0,0,0,0.6,0],\n",
    "              [0.4,0,0,0,0,0.6],\n",
    "              [1,0,0,0,0,0],\n",
    "             ])\n",
    "#Get Markov Chain Stationary Distribution\n",
    "mc = markovChain(p)\n",
    "mc.computePi('linear')\n",
    "\n",
    "expected_steps_inverse= []\n",
    "for steps in expected_steps:\n",
    "  if steps==0:\n",
    "    expected_steps_inverse.append(math.inf)\n",
    "  else:\n",
    "    expected_steps_inverse.append(1/steps)\n",
    "                         \n",
    "print(\"Inverse Mean Return Times : \",end=\"\")\n",
    "print(expected_steps_inverse)\n",
    "print(\"Stationary Distribution : \",end=\"\")\n",
    "print(mc.pi)\n",
    "\n",
    "print(\"Thus we notice that the inverse of Mean Return Times is approximately equal to the Stationary Distribution.\")"
   ]
  }
 ],
 "metadata": {
  "colab": {
   "collapsed_sections": [],
   "name": "PE: Stationary Distribution & Mean Return Time.ipynb",
   "provenance": [],
   "version": "0.3.2"
  },
  "kernelspec": {
   "display_name": "Python 3",
   "language": "python",
   "name": "python3"
  },
  "language_info": {
   "codemirror_mode": {
    "name": "ipython",
    "version": 3
   },
   "file_extension": ".py",
   "mimetype": "text/x-python",
   "name": "python",
   "nbconvert_exporter": "python",
   "pygments_lexer": "ipython3",
   "version": "3.6.7"
  }
 },
 "nbformat": 4,
 "nbformat_minor": 1
}
